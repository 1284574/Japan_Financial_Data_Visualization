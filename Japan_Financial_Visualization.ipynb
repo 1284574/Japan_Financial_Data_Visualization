{
  "nbformat": 4,
  "nbformat_minor": 0,
  "metadata": {
    "colab": {
      "provenance": []
    },
    "kernelspec": {
      "name": "python3",
      "display_name": "Python 3"
    },
    "language_info": {
      "name": "python"
    }
  },
  "cells": [
    {
      "cell_type": "code",
      "execution_count": 1,
      "metadata": {
        "id": "O5NgV4GVlYHw"
      },
      "outputs": [],
      "source": [
        "import pandas as pd\n",
        "import matplotlib.pyplot as plt\n",
        "from matplotlib.animation import FuncAnimation"
      ]
    },
    {
      "cell_type": "code",
      "source": [
        "# Load Nikkei data\n",
        "nikkei_data_path = \"nikkei_data.xlsx\"\n",
        "nikkei_data = pd.read_excel(nikkei_data_path, sheet_name='Data', skiprows=4)\n",
        "nikkei_data_cleaned = nikkei_data.drop(columns=['Unnamed: 0'])\n",
        "nikkei_data_cleaned.columns = ['Year', 'Nikkei_Index']"
      ],
      "metadata": {
        "id": "asjZwCUTm7kg"
      },
      "execution_count": 2,
      "outputs": []
    },
    {
      "cell_type": "code",
      "source": [
        "# Load Japan GDP data\n",
        "japan_gdp_data_path = 'japan_gdp_data.xlsx'\n",
        "# openpyxl engine is used to hand .xlsx files\n",
        "japan_gdp_data = pd.read_excel(japan_gdp_data_path, engine='openpyxl')\n",
        "# Transform the wide-form data into long form. This means converting it from having each year as a column\n",
        "# to a format where each row represents a single year and its corresponding GDP value.\n",
        "# 'id_vars' specifies a column that will remain vertical (i.e., the identifier variable),\n",
        "# while the names of the other columns will be 'melted' into a single 'Year' column with corresponding 'GDP' values.\n",
        "japan_gdp_data_long = japan_gdp_data.melt(id_vars=['GDP, current prices (Billions of U.S. dollars)'], var_name='Year', value_name='GDP')\n",
        "# Drop any rows with NaN or null values\n",
        "japan_gdp_data_long = japan_gdp_data_long.dropna()\n",
        "# Remove the unnecessary 'GDP, current prices (Billions of U.S. dollars)' column since it is no longer needed\n",
        "# after the 'melt' operation. The remaining data will just consist of 'Year' and 'GDP'.\n",
        "japan_gdp_data_cleaned = japan_gdp_data_long.drop(columns=['GDP, current prices (Billions of U.S. dollars)'])\n",
        "# Convert the 'Year' column to an integer data type to ensure consistency in the merged dataset\n",
        "# and facilitate any further analysis or plotting.\n",
        "japan_gdp_data_cleaned['Year'] = japan_gdp_data_cleaned['Year'].astype(int)\n",
        "\n"
      ],
      "metadata": {
        "id": "2QgiG0Gangxj"
      },
      "execution_count": 3,
      "outputs": []
    },
    {
      "cell_type": "code",
      "source": [
        "# Merge two datasets\n",
        "# Merge the cleaned Nikkei index data with the cleaned GDP data into a single DataFrame.\n",
        "# The merge is performed on the 'Year' column, which is common to both datasets.\n",
        "# The 'inner' join means that only years present in both datasets will be included in the merged dataset.\n",
        "# If there is a year that does not appear in both datasets, it will not be included in the final DataFrame.\n",
        "merged_data = pd.merge(nikkei_data_cleaned, japan_gdp_data_cleaned, on='Year', how='inner')\n",
        "# Sort the merged data by the 'Year' column in ascending order. This is necessary to ensure that the data\n",
        "# is in chronological order, which is especially important for time-series analysis and for creating\n",
        "# animations that show the progression of data over time. The 'inplace=True' parameter makes this operation\n",
        "# modify the DataFrame in place, without the need to assign the result to a new variable.\n",
        "merged_data.sort_values('Year', inplace=True)"
      ],
      "metadata": {
        "id": "RAgLbPWDpLAN"
      },
      "execution_count": 4,
      "outputs": []
    },
    {
      "cell_type": "code",
      "source": [
        "# Create animated line graph\n",
        "# Set the size of the figure to 10 inches by 6 inches.\n",
        "fig, ax1 = plt.subplots(figsize=(10, 6))\n",
        "# Set the title of the graph to 'Japan GDP vs Nikkei Index from 1980-2023' with a font size of 14.\n",
        "ax1.set_title('Japan GDP vs Nikkei Index from 1980-2023', fontsize=14)\n",
        "# Label the x-axis as 'Year' with a font size of 12.\n",
        "ax1.set_xlabel('Year', fontsize=12)\n",
        "# Create a second y-axis (ax2) that shares the same x-axis as ax1, which will be used to plot the GDP data.\n",
        "# This is done so that the two lines can be plotted on different scales on the same graph.\n",
        "ax2=ax1.twinx()\n",
        "# Set the label for the ax1 y-axis as 'Nikkei Index' with a font size of 12 and a blue color to match the line color.\n",
        "ax1.set_ylabel('Nikkei Index', color='tab:blue', fontsize=12)\n",
        "# Set the label for the ax2 y-axis as 'GDP (Billions of USD)' with a font size of 12 and a red color to match the line color.\n",
        "ax2.set_ylabel('GDP (Billions of USD)', color='tab:red', fontsize=12)\n",
        "# Initialize two empty lines. One will be for the Nikkei Index (blue line) and the other for the GDP (red line).\n",
        "# These lines will be updated during the animation. The label argument assigns a label for the legend.\n",
        "line1, = ax1.plot([], [], 'b-', label='Nikkei Index')\n",
        "line2, = ax2.plot([], [], 'r-', label='GDP')\n",
        "# Place a legend on the upper left and upper right of the graph to help identify the lines.\n",
        "ax1.legend(loc=\"upper left\")\n",
        "ax2.legend(loc=\"upper right\")\n",
        "# Define the update function that will be called for each frame of the animation.\n",
        "# This function takes one argument 'frame' which is an integer that represents the frame number.\n",
        "\n",
        "year_text = ax1.text(0.95, 0.9, '', transform=ax1.transAxes, ha='right')  # You can adjust the position\n",
        "def update(frame):\n",
        "  # Get the data up to the current frame for the year, Nikkei Index, and GDP.\n",
        "  # iloc indexes by position meaning it takes integers to select rows at particular\n",
        "  # positions in the dataframe's index (starting at 0)\n",
        "  year = merged_data['Year'].iloc[:frame+1]\n",
        "  nikkei = merged_data['Nikkei_Index'].iloc[:frame+1]\n",
        "  gdp = merged_data['GDP'].iloc[:frame+1]\n",
        "  # Update the data for both lines with the values for the current frame.\n",
        "  line1.set_data(year, nikkei)\n",
        "  line2.set_data(year, gdp)\n",
        "  # Set the x-axis limit to the range of years in the data.\n",
        "  ax1.set_xlim(min(merged_data['Year']), max(merged_data['Year']))\n",
        "  ax2.set_xlim(min(merged_data['Year']), max(merged_data['Year']))\n",
        "  # Set the y-axis limit to a little above the maximum values in the data for both Nikkei Index and GDP.\n",
        "  # This ensures the lines have some space above them and are not touching the top of the graph.\n",
        "  ax1.set_ylim(0, max(merged_data['Nikkei_Index']) * 1.1)\n",
        "  ax2.set_ylim(0, max(merged_data['GDP']) * 1.1)\n",
        "  current_year = merged_data['Year'].iloc[frame]\n",
        "  text_color = 'black'  # or any color that stands out on your background\n",
        "  year_text.set_text(f'Year: {current_year}')\n",
        "  year_text.set_color(text_color)\n",
        "  year_text.set_fontsize(14)  # Increase font size as needed\n",
        "  return line1, line2, year_text\n",
        "\n",
        "# Create the animation by using FuncAnimation. This function will call 'update' function for each frame.\n",
        "# 'frames=len(merged_data)' tells FuncAnimation how many frames the animation will have,\n",
        "# 'blit=True' makes the animation run smoother by only redrawing the parts that have changed,\n",
        "# 'repeat=False' ensures that the animation will not loop once it finishes.\n",
        "ani = FuncAnimation(fig, update, frames=len(merged_data), blit=True, repeat=False)\n",
        "\n",
        "\n",
        "# Save the animation to a file named 'japan_gdp_vs_nikkei.mp4'. The 'writer' specifies that ffmpeg will be used to write the video file.\n",
        "# 'fps=2' sets the frames per second, so each frame will be displayed for half a second.\n",
        "video_path = 'japan.gdpvs_nikkei.mp4'\n",
        "ani.save(video_path, writer='ffmpeg', fps=1.5)\n",
        "# Close the figure to prevent it from displaying.\n",
        "plt.close(fig)\n"
      ],
      "metadata": {
        "id": "IXOxeePypdy4"
      },
      "execution_count": 19,
      "outputs": []
    }
  ]
}